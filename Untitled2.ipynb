{
 "cells": [
  {
   "cell_type": "code",
   "execution_count": 3,
   "metadata": {},
   "outputs": [
    {
     "name": "stdout",
     "output_type": "stream",
     "text": [
      "(9, 3, 4, 6, 3, 8, 9, 5)\n"
     ]
    }
   ],
   "source": [
    "# divide function\n",
    "arr = 9,3,4,6,3,8,9,5\n",
    "def partition(arr,low,high):\n",
    "   i = ( low-1 )\n",
    "   pivot = arr[high] # pivot element\n",
    "   for j in range(low , high):\n",
    "      # If current element is smaller\n",
    "      if arr[j] <= pivot:\n",
    "         # increment\n",
    "         i = i+1\n",
    "         arr[i],arr[j] = arr[j],arr[i]\n",
    "   arr[i+1],arr[high] = arr[high],arr[i+1]\n",
    "   return ( i+1 )\n",
    "# sort\n",
    "def quickSort(arr,low,high):\n",
    "   if low < high:\n",
    "      # index\n",
    "      pi = partition(arr,low,high)\n",
    "      # sort the partitions\n",
    "print(arr)"
   ]
  },
  {
   "cell_type": "code",
   "execution_count": null,
   "metadata": {},
   "outputs": [],
   "source": []
  }
 ],
 "metadata": {
  "kernelspec": {
   "display_name": "Python 3",
   "language": "python",
   "name": "python3"
  },
  "language_info": {
   "codemirror_mode": {
    "name": "ipython",
    "version": 3
   },
   "file_extension": ".py",
   "mimetype": "text/x-python",
   "name": "python",
   "nbconvert_exporter": "python",
   "pygments_lexer": "ipython3",
   "version": "3.8.3"
  }
 },
 "nbformat": 4,
 "nbformat_minor": 4
}
