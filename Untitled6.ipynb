{
 "cells": [
  {
   "cell_type": "code",
   "execution_count": 2,
   "metadata": {},
   "outputs": [
    {
     "name": "stdout",
     "output_type": "stream",
     "text": [
      "Assuming the start vertex to be B:\n",
      "Shortest distances {'B': 0, 'A': 2, 'D': 4, 'G': 5, 'C': 6, 'E': 5, 'F': 7}\n",
      "Parents {'B': None, 'A': 'B', 'D': 'B', 'G': 'D', 'E': 'D', 'F': 'E', 'C': 'E'}\n"
     ]
    }
   ],
   "source": [
    "def extract(Q, w):\n",
    "    m=0\n",
    "    minimum=w[0]\n",
    "    for i in range(len(w)):\n",
    "        if w[i]<minimum:\n",
    "            minimum=w[i]\n",
    "            m=i\n",
    "    return m, Q[m]\n",
    "\n",
    "def dijkstra(G, s, t='B'):\n",
    "    Q=[s]\n",
    "    p={s:None}\n",
    "    w=[0]\n",
    "    d={}\n",
    "    for i in G:\n",
    "        d[i]=float('inf')\n",
    "        Q.append(i)\n",
    "        w.append(d[i])\n",
    "    d[s]=0\n",
    "    S=[]\n",
    "    n=len(Q)\n",
    "    while Q:\n",
    "        u=extract(Q,w)[1]\n",
    "        S.append(u)\n",
    "        #w.remove(extract(Q, d, w)[0])\n",
    "        Q.remove(u)\n",
    "        for v in G[u]:\n",
    "            if d[v]>=d[u]+G[u][v]:\n",
    "                d[v]=d[u]+G[u][v]\n",
    "                p[v]=u\n",
    "    return d, p\n",
    "\n",
    "B='B'\n",
    "A='A'\n",
    "D='D'\n",
    "G='G'\n",
    "E='E'\n",
    "C='C'\n",
    "F='F'\n",
    "G={B:{A:2, D:4, G:8}, A:{B:6, D:3, E:12, F:5}, D:{B:1, G:1, E:1, A:3}, G:{B:2, D:1, C:2}, C:{G:2, E:1, F:16}, E:{A:12, D:1, C:1, F:2}, F:{A:5, E:2, C:16}}\n",
    "print(\"Assuming the start vertex to be B:\")\n",
    "print(\"Shortest distances\", dijkstra(G, B)[0])\n",
    "print(\"Parents\", dijkstra(G, B)[1])"
   ]
  },
  {
   "cell_type": "code",
   "execution_count": null,
   "metadata": {},
   "outputs": [],
   "source": []
  }
 ],
 "metadata": {
  "kernelspec": {
   "display_name": "Python 3",
   "language": "python",
   "name": "python3"
  },
  "language_info": {
   "codemirror_mode": {
    "name": "ipython",
    "version": 3
   },
   "file_extension": ".py",
   "mimetype": "text/x-python",
   "name": "python",
   "nbconvert_exporter": "python",
   "pygments_lexer": "ipython3",
   "version": "3.8.3"
  }
 },
 "nbformat": 4,
 "nbformat_minor": 4
}
